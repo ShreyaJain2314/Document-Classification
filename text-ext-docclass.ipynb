{
 "cells": [
  {
   "cell_type": "code",
   "execution_count": 3,
   "id": "c12a07d5",
   "metadata": {},
   "outputs": [
    {
     "name": "stderr",
     "output_type": "stream",
     "text": [
      "[nltk_data] Downloading package stopwords to\n",
      "[nltk_data]     C:\\Users\\SJain\\AppData\\Roaming\\nltk_data...\n",
      "[nltk_data]   Package stopwords is already up-to-date!\n"
     ]
    }
   ],
   "source": [
    "from PIL import Image\n",
    "from pytesseract import pytesseract\n",
    "from nltk.stem import PorterStemmer\n",
    "from nltk.tokenize import word_tokenize\n",
    "from nltk.corpus import stopwords\n",
    "import nltk\n",
    "nltk.download('stopwords')\n",
    "from nltk.tokenize import word_tokenize\n",
    "from nltk.tokenize.treebank import TreebankWordDetokenizer\n",
    "import pandas as pd\n",
    "import numpy as np\n",
    "import re\n"
   ]
  },
  {
   "cell_type": "code",
   "execution_count": 11,
   "id": "9e023a13",
   "metadata": {},
   "outputs": [],
   "source": [
    "def text_extraction1(image_path,tags):\n",
    "    path_to_tesseract = r\"C:\\Program Files\\Tesseract-OCR\\tesseract.exe\"\n",
    "#image_path = r\"bank1.png\"\n",
    "    #image_path=\"C:\\Users\\SJain\\Documents\\samples\\bank statements\\\"\n",
    "# Opening the image & storing it in an image object\n",
    "    img = Image.open(image_path)\n",
    "\n",
    "# Providing the tesseract executable\n",
    "# location to pytesseract library\n",
    "    pytesseract.tesseract_cmd = path_to_tesseract\n",
    "\n",
    "# Passing the image object to image_to_string() function\n",
    "# This function will extract the text from the image\n",
    "    text = pytesseract.image_to_string(img)\n",
    "    text=text.replace(\"\\n\\n\",\" \").replace(\"[\",\"\").replace(\"-\",\"\").replace(\".—\",\"\").replace(\"|\",\"\").replace(\":\",\"\")\n",
    "    text=text.replace(\"|\",\"\").replace(\"§\",\"\").replace(\"@\",\"\").replace(\"¥\",\"\").replace(\"©\",\"\")\n",
    "    text=text.replace(\"«\",\"\")\n",
    "    text=text.replace(\"\\n\",\" \")\n",
    "    text=text.replace(\">\",\"\")\n",
    "# Displaying the extracted text\n",
    "    #print(text[:-1])\n",
    "    \n",
    "    l=[]\n",
    "    text_tokens = word_tokenize(text)\n",
    "    tokens_without_sw = [word for word in text_tokens if not word in stopwords.words()]\n",
    "    #print(tokens_without_sw)\n",
    "    l.append(tokens_without_sw)\n",
    "    l2=[]\n",
    "    for i in l:\n",
    "        r=TreebankWordDetokenizer().detokenize(i)\n",
    "        l2.append(r)\n",
    "    lst=[]\n",
    "    ps = PorterStemmer()\n",
    "    for i in l2:\n",
    "    #text_tokens = word_tokenize(i)\n",
    "    #tokens_without_sw = [word for word in text_tokens if not word in stopwords.words()]\n",
    "        res=ps.stem(i)\n",
    "   # res=res.replace(\" | \",\" \")\n",
    "    #res = i.translate(remove_digits)\n",
    "        lst.append(res)\n",
    "    df1 = {\n",
    "        'Tag':[tags],\n",
    "     'Text' :lst\n",
    "    }\n",
    " \n",
    "    df1 = pd.DataFrame(df1,columns=['Tag','Text'])\n",
    "    #print(df1)\n",
    "    return df1"
   ]
  },
  {
   "cell_type": "code",
   "execution_count": 12,
   "id": "a089988e",
   "metadata": {},
   "outputs": [],
   "source": [
    "re2=text_extraction1(\"receipt_99.png\",\"receipt\")"
   ]
  },
  {
   "cell_type": "code",
   "execution_count": 13,
   "id": "b5f91c42",
   "metadata": {},
   "outputs": [
    {
     "data": {
      "text/html": [
       "<div>\n",
       "<style scoped>\n",
       "    .dataframe tbody tr th:only-of-type {\n",
       "        vertical-align: middle;\n",
       "    }\n",
       "\n",
       "    .dataframe tbody tr th {\n",
       "        vertical-align: top;\n",
       "    }\n",
       "\n",
       "    .dataframe thead th {\n",
       "        text-align: right;\n",
       "    }\n",
       "</style>\n",
       "<table border=\"1\" class=\"dataframe\">\n",
       "  <thead>\n",
       "    <tr style=\"text-align: right;\">\n",
       "      <th></th>\n",
       "      <th>Tag</th>\n",
       "      <th>Text</th>\n",
       "    </tr>\n",
       "  </thead>\n",
       "  <tbody>\n",
       "    <tr>\n",
       "      <th>0</th>\n",
       "      <td>receipt</td>\n",
       "      <td>the aiml store 1234 somewhere . rd poway, cali...</td>\n",
       "    </tr>\n",
       "  </tbody>\n",
       "</table>\n",
       "</div>"
      ],
      "text/plain": [
       "       Tag                                               Text\n",
       "0  receipt  the aiml store 1234 somewhere . rd poway, cali..."
      ]
     },
     "execution_count": 13,
     "metadata": {},
     "output_type": "execute_result"
    }
   ],
   "source": [
    "re2"
   ]
  },
  {
   "cell_type": "code",
   "execution_count": null,
   "id": "86b971da",
   "metadata": {},
   "outputs": [],
   "source": []
  }
 ],
 "metadata": {
  "kernelspec": {
   "display_name": "V1",
   "language": "python",
   "name": "v1"
  },
  "language_info": {
   "codemirror_mode": {
    "name": "ipython",
    "version": 3
   },
   "file_extension": ".py",
   "mimetype": "text/x-python",
   "name": "python",
   "nbconvert_exporter": "python",
   "pygments_lexer": "ipython3",
   "version": "3.10.8"
  }
 },
 "nbformat": 4,
 "nbformat_minor": 5
}
