{
 "cells": [
  {
   "cell_type": "code",
   "execution_count": 2,
   "id": "3128e3a5",
   "metadata": {},
   "outputs": [
    {
     "data": {
      "text/html": [
       "<div>\n",
       "<style scoped>\n",
       "    .dataframe tbody tr th:only-of-type {\n",
       "        vertical-align: middle;\n",
       "    }\n",
       "\n",
       "    .dataframe tbody tr th {\n",
       "        vertical-align: top;\n",
       "    }\n",
       "\n",
       "    .dataframe thead th {\n",
       "        text-align: right;\n",
       "    }\n",
       "</style>\n",
       "<table border=\"1\" class=\"dataframe\">\n",
       "  <thead>\n",
       "    <tr style=\"text-align: right;\">\n",
       "      <th></th>\n",
       "      <th>Tag</th>\n",
       "      <th>Text</th>\n",
       "    </tr>\n",
       "  </thead>\n",
       "  <tbody>\n",
       "    <tr>\n",
       "      <th>0</th>\n",
       "      <td>bank statement</td>\n",
       "      <td>page 10f5 03/02/2022 dc 1090001004230 gs anyco...</td>\n",
       "    </tr>\n",
       "    <tr>\n",
       "      <th>1</th>\n",
       "      <td>invoice</td>\n",
       "      <td>anycompany retail services date mar26,2018_ ll...</td>\n",
       "    </tr>\n",
       "    <tr>\n",
       "      <th>2</th>\n",
       "      <td>invoice</td>\n",
       "      <td>anycompany llc 7688 florencio causeway millsbu...</td>\n",
       "    </tr>\n",
       "    <tr>\n",
       "      <th>3</th>\n",
       "      <td>bank statement</td>\n",
       "      <td>page 1of5 03/02/2022 dc 1090001004290, ge anyc...</td>\n",
       "    </tr>\n",
       "    <tr>\n",
       "      <th>4</th>\n",
       "      <td>bank statement</td>\n",
       "      <td>page 10f5 03/02/2022 dc 1090001004290 . 999999...</td>\n",
       "    </tr>\n",
       "    <tr>\n",
       "      <th>...</th>\n",
       "      <td>...</td>\n",
       "      <td>...</td>\n",
       "    </tr>\n",
       "    <tr>\n",
       "      <th>342</th>\n",
       "      <td>invoice</td>\n",
       "      <td>anycompany dealers date jun 20, 2018 85899 her...</td>\n",
       "    </tr>\n",
       "    <tr>\n",
       "      <th>343</th>\n",
       "      <td>business proof</td>\n",
       "      <td>nagaswara hhusie publishing surat keterangan k...</td>\n",
       "    </tr>\n",
       "    <tr>\n",
       "      <th>344</th>\n",
       "      <td>invoice</td>\n",
       "      <td>anycompany hardware date jan 20, 2020 s s invo...</td>\n",
       "    </tr>\n",
       "    <tr>\n",
       "      <th>345</th>\n",
       "      <td>address proof</td>\n",
       "      <td>affidavit of residence . application implement...</td>\n",
       "    </tr>\n",
       "    <tr>\n",
       "      <th>346</th>\n",
       "      <td>bank statement</td>\n",
       "      <td>page 10f5 03/02/2022 dc 1090001004290 99999999...</td>\n",
       "    </tr>\n",
       "  </tbody>\n",
       "</table>\n",
       "<p>347 rows × 2 columns</p>\n",
       "</div>"
      ],
      "text/plain": [
       "                Tag                                               Text\n",
       "0    bank statement  page 10f5 03/02/2022 dc 1090001004230 gs anyco...\n",
       "1           invoice  anycompany retail services date mar26,2018_ ll...\n",
       "2           invoice  anycompany llc 7688 florencio causeway millsbu...\n",
       "3    bank statement  page 1of5 03/02/2022 dc 1090001004290, ge anyc...\n",
       "4    bank statement  page 10f5 03/02/2022 dc 1090001004290 . 999999...\n",
       "..              ...                                                ...\n",
       "342         invoice  anycompany dealers date jun 20, 2018 85899 her...\n",
       "343  business proof  nagaswara hhusie publishing surat keterangan k...\n",
       "344         invoice  anycompany hardware date jan 20, 2020 s s invo...\n",
       "345   address proof  affidavit of residence . application implement...\n",
       "346  bank statement  page 10f5 03/02/2022 dc 1090001004290 99999999...\n",
       "\n",
       "[347 rows x 2 columns]"
      ]
     },
     "execution_count": 2,
     "metadata": {},
     "output_type": "execute_result"
    }
   ],
   "source": [
    "import pandas as pd\n",
    "import numpy as np\n",
    "\n",
    "data=pd.read_csv(\"trainingdata.csv\")\n",
    "data"
   ]
  },
  {
   "cell_type": "code",
   "execution_count": 3,
   "id": "a0f21015",
   "metadata": {},
   "outputs": [],
   "source": [
    "from nltk.corpus import stopwords\n",
    "from nltk.tokenize import word_tokenize\n",
    "import pandas as pd\n",
    "import matplotlib.pyplot as plt\n",
    "import tensorflow as tf\n",
    "import nltk\n",
    "import sklearn\n",
    "from tensorflow import keras\n",
    "from keras.preprocessing.text import text_to_word_sequence\n",
    "from nltk.corpus import stopwords\n",
    "from nltk.stem import PorterStemmer\n",
    "from nltk.stem import WordNetLemmatizer\n",
    "from nltk.corpus import wordnet\n",
    "from sklearn.feature_extraction.text import TfidfVectorizer\n",
    "from sklearn.feature_extraction.text import TfidfTransformer\n",
    "from sklearn.feature_extraction.text import CountVectorizer\n",
    "from sklearn.model_selection import train_test_split\n",
    "from sklearn import svm\n",
    "from sklearn.naive_bayes import MultinomialNB\n",
    "from sklearn.naive_bayes import GaussianNB\n",
    "from sklearn.metrics import roc_auc_score\n",
    "from sklearn.pipeline import Pipeline\n",
    "from sklearn.metrics import classification_report\n",
    "from sklearn.metrics import accuracy_score\n",
    "from sklearn.tree import DecisionTreeClassifier\n",
    "from sklearn.ensemble import RandomForestClassifier"
   ]
  },
  {
   "cell_type": "code",
   "execution_count": 4,
   "id": "276e5682",
   "metadata": {},
   "outputs": [
    {
     "name": "stdout",
     "output_type": "stream",
     "text": [
      "['bank statement' 'invoice' 'receipt' 'salary slip' 'employment proof'\n",
      " 'address proof' 'tax return' 'business proof' 'fund raising']\n"
     ]
    }
   ],
   "source": [
    "target_category = data['Tag'].unique()\n",
    "print(target_category)"
   ]
  },
  {
   "cell_type": "code",
   "execution_count": 5,
   "id": "aff359e9",
   "metadata": {},
   "outputs": [],
   "source": [
    "data['tagId']= data['Tag'].factorize()[0]"
   ]
  },
  {
   "cell_type": "code",
   "execution_count": 7,
   "id": "d2778e32",
   "metadata": {},
   "outputs": [
    {
     "data": {
      "text/html": [
       "<div>\n",
       "<style scoped>\n",
       "    .dataframe tbody tr th:only-of-type {\n",
       "        vertical-align: middle;\n",
       "    }\n",
       "\n",
       "    .dataframe tbody tr th {\n",
       "        vertical-align: top;\n",
       "    }\n",
       "\n",
       "    .dataframe thead th {\n",
       "        text-align: right;\n",
       "    }\n",
       "</style>\n",
       "<table border=\"1\" class=\"dataframe\">\n",
       "  <thead>\n",
       "    <tr style=\"text-align: right;\">\n",
       "      <th></th>\n",
       "      <th>Tag</th>\n",
       "      <th>Text</th>\n",
       "      <th>tagId</th>\n",
       "    </tr>\n",
       "  </thead>\n",
       "  <tbody>\n",
       "    <tr>\n",
       "      <th>0</th>\n",
       "      <td>bank statement</td>\n",
       "      <td>page 10f5 03/02/2022 dc 1090001004230 gs anyco...</td>\n",
       "      <td>0</td>\n",
       "    </tr>\n",
       "    <tr>\n",
       "      <th>1</th>\n",
       "      <td>invoice</td>\n",
       "      <td>anycompany retail services date mar26,2018_ ll...</td>\n",
       "      <td>1</td>\n",
       "    </tr>\n",
       "    <tr>\n",
       "      <th>2</th>\n",
       "      <td>invoice</td>\n",
       "      <td>anycompany llc 7688 florencio causeway millsbu...</td>\n",
       "      <td>1</td>\n",
       "    </tr>\n",
       "    <tr>\n",
       "      <th>3</th>\n",
       "      <td>bank statement</td>\n",
       "      <td>page 1of5 03/02/2022 dc 1090001004290, ge anyc...</td>\n",
       "      <td>0</td>\n",
       "    </tr>\n",
       "    <tr>\n",
       "      <th>4</th>\n",
       "      <td>bank statement</td>\n",
       "      <td>page 10f5 03/02/2022 dc 1090001004290 . 999999...</td>\n",
       "      <td>0</td>\n",
       "    </tr>\n",
       "    <tr>\n",
       "      <th>5</th>\n",
       "      <td>invoice</td>\n",
       "      <td>anycompany supplies inc. suite 205 877 abe par...</td>\n",
       "      <td>1</td>\n",
       "    </tr>\n",
       "    <tr>\n",
       "      <th>6</th>\n",
       "      <td>receipt</td>\n",
       "      <td>sales receipt</td>\n",
       "      <td>2</td>\n",
       "    </tr>\n",
       "    <tr>\n",
       "      <th>7</th>\n",
       "      <td>invoice</td>\n",
       "      <td>anycompany inc . date aug 10, 2021 apt . 558 2...</td>\n",
       "      <td>1</td>\n",
       "    </tr>\n",
       "    <tr>\n",
       "      <th>8</th>\n",
       "      <td>salary slip</td>\n",
       "      <td>paisabazaar marketing and consulting private l...</td>\n",
       "      <td>3</td>\n",
       "    </tr>\n",
       "    <tr>\n",
       "      <th>9</th>\n",
       "      <td>employment proof</td>\n",
       "      <td>3/15/2010 mr. mike williams century apartment ...</td>\n",
       "      <td>4</td>\n",
       "    </tr>\n",
       "    <tr>\n",
       "      <th>10</th>\n",
       "      <td>bank statement</td>\n",
       "      <td>page 1of5 03/02/2022 dc . 1090001004290 gi any...</td>\n",
       "      <td>0</td>\n",
       "    </tr>\n",
       "    <tr>\n",
       "      <th>11</th>\n",
       "      <td>bank statement</td>\n",
       "      <td>page 1of5 . 03/02/2022 dc 1090001004290 gi any...</td>\n",
       "      <td>0</td>\n",
       "    </tr>\n",
       "    <tr>\n",
       "      <th>12</th>\n",
       "      <td>receipt</td>\n",
       "      <td>the aiml store 1284 somewhere ro poway, califo...</td>\n",
       "      <td>2</td>\n",
       "    </tr>\n",
       "    <tr>\n",
       "      <th>13</th>\n",
       "      <td>receipt</td>\n",
       "      <td>the aiml store 1234 somewhere rd . poway, cali...</td>\n",
       "      <td>2</td>\n",
       "    </tr>\n",
       "    <tr>\n",
       "      <th>14</th>\n",
       "      <td>receipt</td>\n",
       "      <td>the aiml store 1234 somewhere ro poway, califo...</td>\n",
       "      <td>2</td>\n",
       "    </tr>\n",
       "    <tr>\n",
       "      <th>15</th>\n",
       "      <td>invoice</td>\n",
       "      <td>anycompany supplies inc. 703 damon course east...</td>\n",
       "      <td>1</td>\n",
       "    </tr>\n",
       "    <tr>\n",
       "      <th>16</th>\n",
       "      <td>bank statement</td>\n",
       "      <td>page 1o0f5 03/02/2022 dc . 1090001004290 gi an...</td>\n",
       "      <td>0</td>\n",
       "    </tr>\n",
       "    <tr>\n",
       "      <th>17</th>\n",
       "      <td>bank statement</td>\n",
       "      <td>page 1ofs 03/02/2022 4090001004290 gib anycomp...</td>\n",
       "      <td>0</td>\n",
       "    </tr>\n",
       "    <tr>\n",
       "      <th>18</th>\n",
       "      <td>receipt</td>\n",
       "      <td>the aiml store 1234 somewhere rd poway, califo...</td>\n",
       "      <td>2</td>\n",
       "    </tr>\n",
       "    <tr>\n",
       "      <th>19</th>\n",
       "      <td>receipt</td>\n",
       "      <td>the ainl store 1234 somewhere rd poway, califo...</td>\n",
       "      <td>2</td>\n",
       "    </tr>\n",
       "  </tbody>\n",
       "</table>\n",
       "</div>"
      ],
      "text/plain": [
       "                 Tag                                               Text  tagId\n",
       "0     bank statement  page 10f5 03/02/2022 dc 1090001004230 gs anyco...      0\n",
       "1            invoice  anycompany retail services date mar26,2018_ ll...      1\n",
       "2            invoice  anycompany llc 7688 florencio causeway millsbu...      1\n",
       "3     bank statement  page 1of5 03/02/2022 dc 1090001004290, ge anyc...      0\n",
       "4     bank statement  page 10f5 03/02/2022 dc 1090001004290 . 999999...      0\n",
       "5            invoice  anycompany supplies inc. suite 205 877 abe par...      1\n",
       "6            receipt                                      sales receipt      2\n",
       "7            invoice  anycompany inc . date aug 10, 2021 apt . 558 2...      1\n",
       "8        salary slip  paisabazaar marketing and consulting private l...      3\n",
       "9   employment proof  3/15/2010 mr. mike williams century apartment ...      4\n",
       "10    bank statement  page 1of5 03/02/2022 dc . 1090001004290 gi any...      0\n",
       "11    bank statement  page 1of5 . 03/02/2022 dc 1090001004290 gi any...      0\n",
       "12           receipt  the aiml store 1284 somewhere ro poway, califo...      2\n",
       "13           receipt  the aiml store 1234 somewhere rd . poway, cali...      2\n",
       "14           receipt  the aiml store 1234 somewhere ro poway, califo...      2\n",
       "15           invoice  anycompany supplies inc. 703 damon course east...      1\n",
       "16    bank statement  page 1o0f5 03/02/2022 dc . 1090001004290 gi an...      0\n",
       "17    bank statement  page 1ofs 03/02/2022 4090001004290 gib anycomp...      0\n",
       "18           receipt  the aiml store 1234 somewhere rd poway, califo...      2\n",
       "19           receipt  the ainl store 1234 somewhere rd poway, califo...      2"
      ]
     },
     "execution_count": 7,
     "metadata": {},
     "output_type": "execute_result"
    }
   ],
   "source": [
    "data.head(20)"
   ]
  },
  {
   "cell_type": "code",
   "execution_count": 8,
   "id": "02ebd4ad",
   "metadata": {},
   "outputs": [
    {
     "data": {
      "text/html": [
       "<div>\n",
       "<style scoped>\n",
       "    .dataframe tbody tr th:only-of-type {\n",
       "        vertical-align: middle;\n",
       "    }\n",
       "\n",
       "    .dataframe tbody tr th {\n",
       "        vertical-align: top;\n",
       "    }\n",
       "\n",
       "    .dataframe thead th {\n",
       "        text-align: right;\n",
       "    }\n",
       "</style>\n",
       "<table border=\"1\" class=\"dataframe\">\n",
       "  <thead>\n",
       "    <tr style=\"text-align: right;\">\n",
       "      <th></th>\n",
       "      <th>Tag</th>\n",
       "      <th>tagId</th>\n",
       "    </tr>\n",
       "  </thead>\n",
       "  <tbody>\n",
       "    <tr>\n",
       "      <th>0</th>\n",
       "      <td>bank statement</td>\n",
       "      <td>0</td>\n",
       "    </tr>\n",
       "    <tr>\n",
       "      <th>1</th>\n",
       "      <td>invoice</td>\n",
       "      <td>1</td>\n",
       "    </tr>\n",
       "    <tr>\n",
       "      <th>6</th>\n",
       "      <td>receipt</td>\n",
       "      <td>2</td>\n",
       "    </tr>\n",
       "    <tr>\n",
       "      <th>8</th>\n",
       "      <td>salary slip</td>\n",
       "      <td>3</td>\n",
       "    </tr>\n",
       "    <tr>\n",
       "      <th>9</th>\n",
       "      <td>employment proof</td>\n",
       "      <td>4</td>\n",
       "    </tr>\n",
       "    <tr>\n",
       "      <th>22</th>\n",
       "      <td>address proof</td>\n",
       "      <td>5</td>\n",
       "    </tr>\n",
       "    <tr>\n",
       "      <th>79</th>\n",
       "      <td>tax return</td>\n",
       "      <td>6</td>\n",
       "    </tr>\n",
       "    <tr>\n",
       "      <th>93</th>\n",
       "      <td>business proof</td>\n",
       "      <td>7</td>\n",
       "    </tr>\n",
       "    <tr>\n",
       "      <th>98</th>\n",
       "      <td>fund raising</td>\n",
       "      <td>8</td>\n",
       "    </tr>\n",
       "  </tbody>\n",
       "</table>\n",
       "</div>"
      ],
      "text/plain": [
       "                 Tag  tagId\n",
       "0     bank statement      0\n",
       "1            invoice      1\n",
       "6            receipt      2\n",
       "8        salary slip      3\n",
       "9   employment proof      4\n",
       "22     address proof      5\n",
       "79        tax return      6\n",
       "93    business proof      7\n",
       "98      fund raising      8"
      ]
     },
     "execution_count": 8,
     "metadata": {},
     "output_type": "execute_result"
    }
   ],
   "source": [
    "tag_category = data[[\"Tag\",\"tagId\"]].drop_duplicates().sort_values('tagId')\n",
    "tag_category"
   ]
  },
  {
   "cell_type": "code",
   "execution_count": 9,
   "id": "b81d15a4",
   "metadata": {},
   "outputs": [
    {
     "data": {
      "text/plain": [
       "0     page 10f5 03/02/2022 dc 1090001004230 gs anyco...\n",
       "1     anycompany retail services date mar26,2018_ ll...\n",
       "2     anycompany llc 7688 florencio causeway millsbu...\n",
       "3     page 1of5 03/02/2022 dc 1090001004290, ge anyc...\n",
       "4     page 10f5 03/02/2022 dc 1090001004290 . 999999...\n",
       "5     anycompany supplies inc. suite 205 877 abe par...\n",
       "6                                         sales receipt\n",
       "7     anycompany inc . date aug 10, 2021 apt . 558 2...\n",
       "8     paisabazaar marketing and consulting private l...\n",
       "9     3/15/2010 mr. mike williams century apartment ...\n",
       "10    page 1of5 03/02/2022 dc . 1090001004290 gi any...\n",
       "11    page 1of5 . 03/02/2022 dc 1090001004290 gi any...\n",
       "12    the aiml store 1284 somewhere ro poway, califo...\n",
       "13    the aiml store 1234 somewhere rd . poway, cali...\n",
       "14    the aiml store 1234 somewhere ro poway, califo...\n",
       "15    anycompany supplies inc. 703 damon course east...\n",
       "16    page 1o0f5 03/02/2022 dc . 1090001004290 gi an...\n",
       "17    page 1ofs 03/02/2022 4090001004290 gib anycomp...\n",
       "18    the aiml store 1234 somewhere rd poway, califo...\n",
       "19    the ainl store 1234 somewhere rd poway, califo...\n",
       "20    the aiml store \"1284 somewhere rd poway, calif...\n",
       "21    anycompany manufacturing inc. suite 604 300 mu...\n",
       "22    affidavit of residence state of county of i,, ...\n",
       "23    the aiml store 1234 somewhere ro poway, califo...\n",
       "24    anycompany hardwares llc 29723 bayer heights w...\n",
       "Name: Text, dtype: object"
      ]
     },
     "execution_count": 9,
     "metadata": {},
     "output_type": "execute_result"
    }
   ],
   "source": [
    "text = data[\"Text\"]\n",
    "text.head(n=25)"
   ]
  },
  {
   "cell_type": "code",
   "execution_count": 12,
   "id": "75e8ae30",
   "metadata": {},
   "outputs": [
    {
     "name": "stderr",
     "output_type": "stream",
     "text": [
      "[nltk_data] Downloading package stopwords to\n",
      "[nltk_data]     C:\\Users\\SJain\\AppData\\Roaming\\nltk_data...\n",
      "[nltk_data]   Package stopwords is already up-to-date!\n",
      "[nltk_data] Downloading package punkt to\n",
      "[nltk_data]     C:\\Users\\SJain\\AppData\\Roaming\\nltk_data...\n",
      "[nltk_data]   Package punkt is already up-to-date!\n",
      "[nltk_data] Downloading package averaged_perceptron_tagger to\n",
      "[nltk_data]     C:\\Users\\SJain\\AppData\\Roaming\\nltk_data...\n",
      "[nltk_data]   Package averaged_perceptron_tagger is already up-to-\n",
      "[nltk_data]       date!\n",
      "[nltk_data] Downloading package wordnet to\n",
      "[nltk_data]     C:\\Users\\SJain\\AppData\\Roaming\\nltk_data...\n",
      "[nltk_data]   Package wordnet is already up-to-date!\n",
      "[nltk_data] Downloading package omw-1.4 to\n",
      "[nltk_data]     C:\\Users\\SJain\\AppData\\Roaming\\nltk_data...\n",
      "[nltk_data]   Package omw-1.4 is already up-to-date!\n"
     ]
    }
   ],
   "source": [
    "from nltk.corpus import stopwords\n",
    "from nltk.tokenize import word_tokenize\n",
    "import pandas as pd\n",
    "import matplotlib.pyplot as plt\n",
    "import tensorflow as tf\n",
    "import sklearn\n",
    "import nltk\n",
    "nltk.download('stopwords')\n",
    "nltk.download('punkt')\n",
    "nltk.download('averaged_perceptron_tagger')\n",
    "nltk.download('wordnet')\n",
    "nltk.download('omw-1.4')\n",
    "\n",
    "\n",
    "from tensorflow import keras\n"
   ]
  },
  {
   "cell_type": "code",
   "execution_count": 14,
   "id": "018e8852",
   "metadata": {},
   "outputs": [],
   "source": [
    "text=data[\"Text\"]\n",
    "category=data[\"Tag\"]\n",
    "\n",
    "X_train, X_test, Y_train, Y_test = train_test_split(text,category, test_size = 0.3, random_state = 60,shuffle=True, stratify=category)"
   ]
  },
  {
   "cell_type": "code",
   "execution_count": 15,
   "id": "76444abf",
   "metadata": {},
   "outputs": [
    {
     "name": "stdout",
     "output_type": "stream",
     "text": [
      "Naive Bayes Train Accuracy Score : 88% \n",
      "Naive Bayes Test Accuracy Score  : 86% \n",
      "\n",
      "                  precision    recall  f1-score   support\n",
      "\n",
      "  bank statement       0.00      0.00      0.00         0\n",
      "         invoice       1.00      0.78      0.88        41\n",
      "         receipt       0.00      0.00      0.00         0\n",
      "     salary slip       0.00      0.00      0.00         0\n",
      "employment proof       0.00      0.00      0.00         0\n",
      "   address proof       1.00      0.86      0.92        35\n",
      "      tax return       0.90      0.97      0.93        29\n",
      "  business proof       0.00      0.00      0.00         0\n",
      "    fund raising       0.00      0.00      0.00         0\n",
      "\n",
      "        accuracy                           0.86       105\n",
      "       macro avg       0.32      0.29      0.30       105\n",
      "    weighted avg       0.97      0.86      0.91       105\n",
      "\n"
     ]
    },
    {
     "name": "stderr",
     "output_type": "stream",
     "text": [
      "C:\\Users\\SJain\\V_env\\V1\\lib\\site-packages\\sklearn\\metrics\\_classification.py:1334: UndefinedMetricWarning: Recall and F-score are ill-defined and being set to 0.0 in labels with no true samples. Use `zero_division` parameter to control this behavior.\n",
      "  _warn_prf(average, modifier, msg_start, len(result))\n",
      "C:\\Users\\SJain\\V_env\\V1\\lib\\site-packages\\sklearn\\metrics\\_classification.py:1334: UndefinedMetricWarning: Recall and F-score are ill-defined and being set to 0.0 in labels with no true samples. Use `zero_division` parameter to control this behavior.\n",
      "  _warn_prf(average, modifier, msg_start, len(result))\n",
      "C:\\Users\\SJain\\V_env\\V1\\lib\\site-packages\\sklearn\\metrics\\_classification.py:1334: UndefinedMetricWarning: Recall and F-score are ill-defined and being set to 0.0 in labels with no true samples. Use `zero_division` parameter to control this behavior.\n",
      "  _warn_prf(average, modifier, msg_start, len(result))\n"
     ]
    }
   ],
   "source": [
    "nb = Pipeline([('tfidf', TfidfVectorizer()),\n",
    "               ('clf', MultinomialNB()),\n",
    "              ])\n",
    "nb.fit(X_train,Y_train)\n",
    "\n",
    "test_predict = nb.predict(X_test)\n",
    "\n",
    "train_accuracy = round(nb.score(X_train,Y_train)*100)\n",
    "test_accuracy =round(accuracy_score(test_predict, Y_test)*100)\n",
    "\n",
    "\n",
    "print(\"Naive Bayes Train Accuracy Score : {}% \".format(train_accuracy ))\n",
    "print(\"Naive Bayes Test Accuracy Score  : {}% \".format(test_accuracy ))\n",
    "print()\n",
    "print(classification_report(test_predict, Y_test, target_names=target_category))"
   ]
  },
  {
   "cell_type": "code",
   "execution_count": 28,
   "id": "38892687",
   "metadata": {},
   "outputs": [
    {
     "name": "stderr",
     "output_type": "stream",
     "text": [
      "[nltk_data] Downloading package stopwords to\n",
      "[nltk_data]     C:\\Users\\SJain\\AppData\\Roaming\\nltk_data...\n",
      "[nltk_data]   Package stopwords is already up-to-date!\n"
     ]
    }
   ],
   "source": [
    "from PIL import Image\n",
    "from pytesseract import pytesseract\n",
    "from sumy.parsers.plaintext import PlaintextParser\n",
    "from sumy.nlp.tokenizers import Tokenizer\n",
    "from sumy.summarizers.luhn import LuhnSummarizer\n",
    "import nltk\n",
    "from nltk.stem import PorterStemmer\n",
    "from nltk.tokenize import word_tokenize\n",
    "from nltk.corpus import stopwords\n",
    "nltk.download('stopwords')\n",
    "from nltk.tokenize import word_tokenize\n",
    "from nltk.tokenize.treebank import TreebankWordDetokenizer\n",
    "import pandas as pd\n",
    "import numpy as np\n",
    "import re\n",
    "\n",
    "\n",
    "\n",
    "def text_ext(image_path):\n",
    "    path_to_tesseract = r\"C:\\Program Files\\Tesseract-OCR\\tesseract.exe\"\n",
    "#image_path = r\"bank1.png\"\n",
    "    #image_path=\"C:\\Users\\SJain\\Documents\\samples\\bank statements\\\"\n",
    "# Opening the image & storing it in an image object\n",
    "    img = Image.open(image_path)\n",
    "\n",
    "# Providing the tesseract executable\n",
    "# location to pytesseract library\n",
    "    pytesseract.tesseract_cmd = path_to_tesseract\n",
    "\n",
    "# Passing the image object to image_to_string() function\n",
    "# This function will extract the text from the image\n",
    "    text = pytesseract.image_to_string(img)\n",
    "    text=text.replace(\"\\n\\n\",\" \").replace(\"[\",\"\").replace(\"-\",\"\").replace(\".—\",\"\").replace(\"|\",\"\").replace(\":\",\"\")\n",
    "    text=text.replace(\"|\",\"\").replace(\"§\",\"\").replace(\"@\",\"\").replace(\"¥\",\"\").replace(\"©\",\"\")\n",
    "    text=text.replace(\"«\",\"\")\n",
    "    text=text.replace(\"\\n\",\" \")\n",
    "    text=text.replace(\">\",\"\")\n",
    "# Displaying the extracted text\n",
    "    #print(text[:-1])\n",
    "    \n",
    "    l=[]\n",
    "    text_tokens = word_tokenize(text)\n",
    "    tokens_without_sw = [word for word in text_tokens if not word in stopwords.words()]\n",
    "    #print(tokens_without_sw)\n",
    "    l.append(tokens_without_sw)\n",
    "    l2=[]\n",
    "    for i in l:\n",
    "        r=TreebankWordDetokenizer().detokenize(i)\n",
    "        l2.append(r)\n",
    "    lst=[]\n",
    "    ps = PorterStemmer()\n",
    "    for i in l2:\n",
    "    #text_tokens = word_tokenize(i)\n",
    "    #tokens_without_sw = [word for word in text_tokens if not word in stopwords.words()]\n",
    "        res=ps.stem(i)\n",
    "   # res=res.replace(\" | \",\" \")\n",
    "    #res = i.translate(remove_digits)\n",
    "        lst.append(res)\n",
    "    df1 = {\n",
    "     'Text' :lst\n",
    "    }\n",
    " \n",
    "    df1 = pd.DataFrame(df1,columns=['Text'])\n",
    "    #print(df1)\n",
    "    return df1"
   ]
  },
  {
   "cell_type": "code",
   "execution_count": 29,
   "id": "eb2053e1",
   "metadata": {},
   "outputs": [],
   "source": [
    "data_test=text_ext(\"receipt_99.png\")"
   ]
  },
  {
   "cell_type": "code",
   "execution_count": 30,
   "id": "d1f2e104",
   "metadata": {},
   "outputs": [
    {
     "data": {
      "text/html": [
       "<div>\n",
       "<style scoped>\n",
       "    .dataframe tbody tr th:only-of-type {\n",
       "        vertical-align: middle;\n",
       "    }\n",
       "\n",
       "    .dataframe tbody tr th {\n",
       "        vertical-align: top;\n",
       "    }\n",
       "\n",
       "    .dataframe thead th {\n",
       "        text-align: right;\n",
       "    }\n",
       "</style>\n",
       "<table border=\"1\" class=\"dataframe\">\n",
       "  <thead>\n",
       "    <tr style=\"text-align: right;\">\n",
       "      <th></th>\n",
       "      <th>Text</th>\n",
       "    </tr>\n",
       "  </thead>\n",
       "  <tbody>\n",
       "    <tr>\n",
       "      <th>0</th>\n",
       "      <td>the aiml store 1234 somewhere . rd poway, cali...</td>\n",
       "    </tr>\n",
       "  </tbody>\n",
       "</table>\n",
       "</div>"
      ],
      "text/plain": [
       "                                                Text\n",
       "0  the aiml store 1234 somewhere . rd poway, cali..."
      ]
     },
     "execution_count": 30,
     "metadata": {},
     "output_type": "execute_result"
    }
   ],
   "source": [
    "data_test"
   ]
  },
  {
   "cell_type": "code",
   "execution_count": 31,
   "id": "11833412",
   "metadata": {},
   "outputs": [
    {
     "data": {
      "text/plain": [
       "0    the aiml store 1234 somewhere . rd poway, cali...\n",
       "Name: Text, dtype: object"
      ]
     },
     "execution_count": 31,
     "metadata": {},
     "output_type": "execute_result"
    }
   ],
   "source": [
    "test_text=data_test[\"Text\"]\n",
    "test_text"
   ]
  },
  {
   "cell_type": "code",
   "execution_count": 32,
   "id": "20f108c4",
   "metadata": {},
   "outputs": [],
   "source": [
    "y_prdict = nb.predict(test_text)"
   ]
  },
  {
   "cell_type": "code",
   "execution_count": 33,
   "id": "2458d289",
   "metadata": {},
   "outputs": [
    {
     "data": {
      "text/plain": [
       "array(['receipt'], dtype='<U16')"
      ]
     },
     "execution_count": 33,
     "metadata": {},
     "output_type": "execute_result"
    }
   ],
   "source": [
    "y_prdict"
   ]
  },
  {
   "cell_type": "code",
   "execution_count": 42,
   "id": "cc41d384",
   "metadata": {},
   "outputs": [
    {
     "data": {
      "text/plain": [
       "array([[0.02892562, 0.30165289, 0.01652893, 0.02066116, 0.00413223,\n",
       "        0.28099174, 0.29338843, 0.02892562, 0.02479339]])"
      ]
     },
     "execution_count": 42,
     "metadata": {},
     "output_type": "execute_result"
    }
   ],
   "source": [
    "y_predict_prob=nb.predict_proba(y_prdict)\n",
    "y_predict_prob"
   ]
  },
  {
   "cell_type": "code",
   "execution_count": 40,
   "id": "ec1f89a2",
   "metadata": {},
   "outputs": [],
   "source": [
    "a9.to_csv(\"testdata.csv\")"
   ]
  },
  {
   "cell_type": "code",
   "execution_count": null,
   "id": "d2459f92",
   "metadata": {},
   "outputs": [],
   "source": []
  }
 ],
 "metadata": {
  "kernelspec": {
   "display_name": "V1",
   "language": "python",
   "name": "v1"
  },
  "language_info": {
   "codemirror_mode": {
    "name": "ipython",
    "version": 3
   },
   "file_extension": ".py",
   "mimetype": "text/x-python",
   "name": "python",
   "nbconvert_exporter": "python",
   "pygments_lexer": "ipython3",
   "version": "3.10.8"
  }
 },
 "nbformat": 4,
 "nbformat_minor": 5
}
